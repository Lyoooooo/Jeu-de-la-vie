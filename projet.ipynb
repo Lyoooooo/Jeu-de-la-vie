{
 "cells": [
  {
   "cell_type": "markdown",
   "metadata": {},
   "source": [
    "**Sauvegarde et chargement**"
   ]
  },
  {
   "cell_type": "code",
   "execution_count": null,
   "metadata": {},
   "outputs": [
    {
     "name": "stdout",
     "output_type": "stream",
     "text": [
      "Matrice sauvegardée dans sauvegarde.txt\n"
     ]
    }
   ],
   "source": [
    "import os\n",
    "import numpy as np\n",
    "\n",
    "# Sauvegarde l'état de la grille dans un fichier .txt.\n",
    "def save_matrix(matrix, filename=None):\n",
    " #matrix: La matrice représentant l'état actuel de la grille.\n",
    " #filename: Le nom du fichier où sauvegarder la grille.\n",
    "    if filename is None:\n",
    "        filename = input(\"Entrez le nom de la sauvegarde: \") + \".txt\"\n",
    "\n",
    "    with open(filename, 'w') as f:\n",
    "        for row in matrix:\n",
    "            f.write(\" \".join(map(str, row)) + \"\\n\")\n",
    "    print(f\"Matrice sauvegardée dans {filename}\")\n",
    "\n",
    "grille = np.random.randint(2, size=(5, 5))  \n",
    "save_matrix(grille, \"sauvegarde.txt\")\n"
   ]
  },
  {
   "cell_type": "code",
   "execution_count": 3,
   "metadata": {},
   "outputs": [
    {
     "name": "stdout",
     "output_type": "stream",
     "text": [
      "Matrice chargée depuis sauvegarde.txt\n",
      "Matrice chargée :\n",
      "[[0 0 0 1 0]\n",
      " [0 1 0 1 0]\n",
      " [0 1 1 1 0]\n",
      " [0 0 1 1 0]\n",
      " [1 0 0 1 0]]\n"
     ]
    }
   ],
   "source": [
    "def load_matrix(filename):\n",
    "\n",
    "    #Charge la matrice sauvegardé depuis le fichier texte.\n",
    "    if not os.path.exists(filename):\n",
    "        print(f\"Erreur : Le fichier {filename} n'existe pas.\")\n",
    "        return None\n",
    "\n",
    "    with open(filename, 'r') as f:\n",
    "        lines = f.readlines()\n",
    "        matrix = [list(map(int, line.split())) for line in lines]\n",
    "    \n",
    "    print(f\"Matrice chargée depuis {filename}\")\n",
    "    return np.array(matrix)\n",
    "\n",
    "matrice_chargee = load_matrix(\"sauvegarde.txt\")\n",
    "print(\"Matrice chargée :\")\n",
    "print(matrice_chargee)"
   ]
  },
  {
   "cell_type": "code",
   "execution_count": null,
   "metadata": {},
   "outputs": [
    {
     "name": "stdout",
     "output_type": "stream",
     "text": [
      "\n",
      "Liste des sauvegardes disponibles :\n",
      "Sauvegardes disponibles :\n",
      "1. sauvegarde.txt\n"
     ]
    },
    {
     "data": {
      "text/plain": [
       "['sauvegarde.txt']"
      ]
     },
     "execution_count": 4,
     "metadata": {},
     "output_type": "execute_result"
    }
   ],
   "source": [
    "def list_saves():\n",
    "    \n",
    "   # Liste tous les fichiers de sauvegarde disponibles dans le répertoire actuel.\n",
    "    \n",
    "    saves = [f for f in os.listdir() if f.endswith(\".txt\")]\n",
    "    if not saves:\n",
    "        print(\"Aucune sauvegarde trouvée.\")\n",
    "    else:\n",
    "        print(\"Sauvegardes disponibles :\")\n",
    "        for i, save in enumerate(saves, 1):\n",
    "            print(f\"{i}. {save}\")\n",
    "    return saves\n",
    "\n",
    "# Liste les fichiers de sauvegarde\n",
    "print(\"\\nListe des sauvegardes disponibles :\")\n",
    "list_saves()"
   ]
  },
  {
   "cell_type": "code",
   "execution_count": null,
   "metadata": {},
   "outputs": [
    {
     "name": "stdout",
     "output_type": "stream",
     "text": [
      "Sauvegardes disponibles :\n",
      "1. sauvegarde.txt\n"
     ]
    }
   ],
   "source": [
    "def select_save():\n",
    "    \n",
    "    #Permet à l'utilisateur de sélectionner une sauvegarde à charger.\n",
    "    \n",
    "    saves = list_saves()\n",
    "    if not saves:\n",
    "        return None\n",
    "\n",
    "    choice = input(\"Entrez le numéro de la sauvegarde que vous souhaitez charger : \")\n",
    "    try:\n",
    "        choice_index = int(choice) - 1\n",
    "        if 0 <= choice_index < len(saves):\n",
    "            return saves[choice_index]\n",
    "        else:\n",
    "            print(\"Numéro invalide.\")\n",
    "            return None\n",
    "    except ValueError:\n",
    "        print(\"Entrée invalide.\")\n",
    "        return None\n",
    "\n",
    "selection = select_save()\n",
    "\n"
   ]
  }
 ],
 "metadata": {
  "kernelspec": {
   "display_name": "Python 3",
   "language": "python",
   "name": "python3"
  },
  "language_info": {
   "codemirror_mode": {
    "name": "ipython",
    "version": 3
   },
   "file_extension": ".py",
   "mimetype": "text/x-python",
   "name": "python",
   "nbconvert_exporter": "python",
   "pygments_lexer": "ipython3",
   "version": "3.13.0"
  }
 },
 "nbformat": 4,
 "nbformat_minor": 2
}
