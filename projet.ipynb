{
 "cells": [
  {
   "cell_type": "markdown",
   "metadata": {},
   "source": [
    "# Projet : Le Jeu De La Vie\n",
    "\n",
    "Présentation de Ashley , Arthur Brouchon, Jeremie Gallula et Léo Triffault\n",
    "\n",
    "Cette présentation a pour but de faire le tour de toutes les fonctionnalitées principales présentes dans le projet. \n",
    "Nous retraceront le fonctionnement du projet dans l'ordre présenté dans le sujet avec pour chaque partie une rapide explication du fonctionnement et des choix pris pour sa mise en place."
   ]
  },
  {
   "cell_type": "markdown",
   "metadata": {},
   "source": [
    "**Partie 1 : Moteur du jeu**"
   ]
  },
  {
   "cell_type": "markdown",
   "metadata": {},
   "source": [
    "Une première simple execution de notre programme :"
   ]
  },
  {
   "cell_type": "code",
   "execution_count": 7,
   "metadata": {},
   "outputs": [
    {
     "data": {
      "text/plain": [
       "1"
      ]
     },
     "execution_count": 7,
     "metadata": {},
     "output_type": "execute_result"
    }
   ],
   "source": [
    "import os\n",
    "\n",
    "os.system(\"C:\\wamp64\\www\\Jeu-de-la-vie\\main.py\")"
   ]
  },
  {
   "cell_type": "markdown",
   "metadata": {},
   "source": [
    "Le moteur fonctionne en suivant un certain nombre de paramètres de base, ceux-ci sont initialisés au lancement du programme.\n",
    "\n",
    "Juste après cette étape, nous affichons le menu principal de l'application :"
   ]
  },
  {
   "cell_type": "code",
   "execution_count": 2,
   "metadata": {},
   "outputs": [
    {
     "name": "stdout",
     "output_type": "stream",
     "text": [
      "pygame 2.6.1 (SDL 2.28.4, Python 3.12.7)\n",
      "Hello from the pygame community. https://www.pygame.org/contribute.html\n"
     ]
    }
   ],
   "source": [
    "import numpy as np\n",
    "import pygame\n",
    "import time\n",
    "from moteur_jeu.gestion_matrice import init_matrix\n",
    "from moteur_jeu.evaluation import evaluate\n",
    "from interface.affichage_grille import draw_matrix\n",
    "from interface.boutons import draw_button\n",
    "from interface.ecran_demarrage import start_screen, select_save_screen, save_game_screen, confirmation_screen\n",
    "from sauvegarde.chargement import load_matrix, list_saves\n",
    "from sauvegarde.sauvegarde import save_matrix\n",
    "from analyse_donnees.analyse import save_data, creer_graph, creer_graph_exec\n",
    "from interface.stats import draw_value\n"
   ]
  },
  {
   "cell_type": "code",
   "execution_count": null,
   "metadata": {},
   "outputs": [],
   "source": [
    "# Initialiser pygame\n",
    "pygame.init()\n",
    "\n",
    "# Dimensions de la fenêtre et des cellules\n",
    "TAILLE_CELLULE = 5  # Taille de chaque cellule dans la grille\n",
    "TAILLE_GRILLE = 100  # Nombre de cellules par côté\n",
    "LARGEUR = HAUTEUR = TAILLE_GRILLE * TAILLE_CELLULE *1.5 # Taille de la grille\n",
    "LARGEUR_TOTALE = LARGEUR  # Largeur totale de la fenêtre\n",
    "HAUTEUR_TOTALE = HAUTEUR + 100  # Hauteur totale de la fenêtre avec espace pour les boutons\n",
    "\n",
    "# Créer la fenêtre du jeu\n",
    "screen = pygame.display.set_mode((LARGEUR_TOTALE, HAUTEUR_TOTALE))\n",
    "pygame.display.set_caption(\"Jeu de la Vie\")\n",
    "\n",
    "# Définition des couleurs et de la police\n",
    "COULEUR_VIVANT = (0, 255, 0)  # Couleur pour les cellules vivantes\n",
    "COULEUR_MORT = (0, 0, 0)  # Couleur pour les cellules mortes\n",
    "COULEUR_GRILLE = (40, 40, 40)  # Couleur des lignes de la grille\n",
    "font = pygame.font.Font(None, 36)  # Police pour les textes\n",
    "\n",
    "# Boucle du menu principal\n",
    "while True:\n",
    "    # Afficher l'écran de démarrage avec les options Nouvelle Partie et Charger Partie\n",
    "    button_new_game, button_load_game = start_screen(screen, LARGEUR, HAUTEUR, font)\n",
    "    selected_matrix = None  # Initialisation de la matrice sélectionnée\n",
    "\n",
    "    # Boucle pour gérer les événements dans le menu principal\n",
    "    menu_running = True\n",
    "    while menu_running:\n",
    "        for event in pygame.event.get():\n",
    "            if event.type == pygame.QUIT:\n",
    "                # Quitter le jeu si l'utilisateur ferme la fenêtre\n",
    "                pygame.quit()\n",
    "                exit()\n",
    "            elif event.type == pygame.MOUSEBUTTONDOWN:\n",
    "                # Gérer les clics de souris\n",
    "                if button_new_game.collidepoint(event.pos):\n",
    "                    # Si Nouvelle Partie est sélectionnée\n",
    "                    selected_matrix = init_matrix(TAILLE_GRILLE)\n",
    "                    main_game_loop(selected_matrix)  # Lancer la boucle de jeu\n",
    "                    menu_running = False  # Sortir de la boucle de menu pour revenir au jeu\n",
    "                elif button_load_game.collidepoint(event.pos):\n",
    "                    # Si Charger Partie est sélectionnée\n",
    "                    filename = select_save_screen(screen, LARGEUR, HAUTEUR, font)\n",
    "                    if filename:\n",
    "                        # Charger la matrice depuis le fichier sélectionné\n",
    "                        selected_matrix = load_matrix(filename)\n",
    "                        main_game_loop(selected_matrix, save_filename=filename)  # Lancer le jeu avec sauvegarde directe\n",
    "                        menu_running = False  # Sortir de la boucle de menu pour revenir au jeu\n",
    "        # Mettre à jour l'affichage du menu principal\n",
    "        pygame.display.flip()"
   ]
  },
  {
   "cell_type": "markdown",
   "metadata": {},
   "source": [
    "Ce menu propose deux option, lancer une nouvelle partie ou en charger une préalablement sauvegardée.\n",
    "\n",
    "La sauvegarde constituant une autre partie, nous la présenterons dans un autre temps"
   ]
  },
  {
   "cell_type": "code",
   "execution_count": 1,
   "metadata": {},
   "outputs": [],
   "source": [
    "def main_game_loop(matrix, save_filename=None):\n",
    "    \n",
    "    #Boucle principale du jeu de la vie.\n",
    "    #Si save_filename est fourni, le jeu sauvegarde directement dans ce fichier lors de l'utilisation du bouton Sauvegarder.\n",
    "    \n",
    "    paused = False  # Variable pour contrôler la pause du jeu\n",
    "    running = True  # Variable pour contrôler la boucle principale du jeu\n",
    "    clock = pygame.time.Clock()  # Objet pour contrôler la vitesse d'exécution\n",
    "    debut = time.perf_counter() # Calculer le temps d'execution\n",
    "    temps = 0 # Initialiser le temps d'execution à 0\n",
    "    temps_paused = 0 # Initialiser le temps perdu dans les pauses\n",
    "    data = [[0],[0],[0],[TAILLE_GRILLE]]\n",
    "    taille_cellule = TAILLE_CELLULE\n",
    "    exect_time = 0\n",
    "\n",
    "    while running:\n",
    "        # Remplir l'arrière-plan de la fenêtre\n",
    "        screen.fill(COULEUR_MORT)\n",
    "        \n",
    "        # Afficher la grille de jeu\n",
    "        draw_matrix(screen, matrix, taille_cellule, COULEUR_VIVANT, COULEUR_MORT, COULEUR_GRILLE)\n",
    "        \n",
    "        # Afficher les boutons Pause/Play, Zoom+/Zoom- et Sauvegarder\n",
    "        button_pause_rect = draw_button(screen, font, \"Play\" if paused else \"Pause\", 10, HAUTEUR + 10,)\n",
    "        button_save_rect = draw_button(screen, font, \"Sauvegarder\", 10, HAUTEUR + 50)\n",
    "        draw_value(screen, \"Temps : \", str(temps), 10, 5)\n",
    "        draw_value(screen, \"Temps de calcul : \", str(exect_time), 120,5)\n",
    "        button_zoom_in_rect = draw_button(screen, font, \"Zoom +\", 200, HAUTEUR + 10)\n",
    "        button_zoom_out_rect = draw_button(screen, font, \"Zoom -\", 200, HAUTEUR + 50)\n",
    "        \n",
    "        # Mettre à jour l'affichage\n",
    "        pygame.display.flip()\n",
    "\n",
    "        # Si le jeu n'est pas en pause, évaluer la prochaine génération de la matrice\n",
    "        if not paused:\n",
    "            # Noter le moment de début du calcul des cellules \n",
    "            exec_time_start = time.perf_counter()\n",
    "            \n",
    "            matrix = evaluate(matrix)\n",
    "            # Calculer le temps de calcul des cellules\n",
    "            exect_time = round(time.perf_counter() - exec_time_start, 5) \n",
    "\n",
    "            # Calculer le temps d'execution depuis le début\n",
    "            temps = round(temps_paused + time.perf_counter() - debut, 2)\n",
    "\n",
    "        # Gérer les événements utilisateur\n",
    "        for event in pygame.event.get():\n",
    "            if event.type == pygame.QUIT:\n",
    "                # Quitter le jeu si l'utilisateur ferme la fenêtre\n",
    "                pygame.quit()\n",
    "                ### creer_graph(data)\n",
    "                ### creer_graph_exec(data)\n",
    "                exit()\n",
    "            elif event.type == pygame.MOUSEBUTTONDOWN:\n",
    "                # Gérer les clics de souris\n",
    "                x, y = pygame.mouse.get_pos()\n",
    "                if button_pause_rect.collidepoint(x, y):\n",
    "                    # Basculer l'état de pause si on clique sur le bouton Pause/Play\n",
    "                    paused = not paused\n",
    "                    if paused == False:\n",
    "                        debut = time.perf_counter()\n",
    "                        temps_paused = temps\n",
    "                elif button_save_rect.collidepoint(x, y):\n",
    "                    # Sauvegarder la partie\n",
    "                    if save_filename:\n",
    "                        # Si un fichier de sauvegarde est déjà défini (partie chargée), sauvegarder directement\n",
    "                        save_matrix(matrix, filename=save_filename)\n",
    "                    else:\n",
    "                        # Sinon, demander un nom pour la sauvegarde (nouvelle partie)\n",
    "                        save_filename = save_game_screen(screen, LARGEUR, HAUTEUR, font, matrix)\n",
    "                    \n",
    "                    # Afficher l'écran de confirmation après la sauvegarde\n",
    "                    choice = confirmation_screen(screen, LARGEUR, HAUTEUR, font)\n",
    "                    if choice == \"menu\":\n",
    "                        # Retourner au menu principal si l'utilisateur le souhaite\n",
    "                        return\n",
    "                    \n",
    "                     # Gestion des clics sur les boutons de zoom\n",
    "                elif button_zoom_in_rect.collidepoint(x, y):\n",
    "                    taille_cellule = min(taille_cellule + 2, 40)  # Zoom avant (limité à 40)\n",
    "                elif button_zoom_out_rect.collidepoint(x, y):\n",
    "                    taille_cellule = max(taille_cellule - 2, 2)  # Zoom arrière (limité à 2)\n",
    "                elif y < TAILLE_GRILLE * taille_cellule and x < TAILLE_GRILLE * taille_cellule:\n",
    "                    # Permet à l'utilisateur de cliquer sur une cellule pour la rendre vivante ou morte\n",
    "                    n = y // taille_cellule\n",
    "                    m = x // taille_cellule\n",
    "                    matrix[n, m] = 1 if matrix[n, m] == 0 else 0\n",
    "        # Set les données pour analyse\n",
    "        data = save_data(temps, data, exect_time, matrix)\n",
    "\n",
    "        # Limiter la vitesse de la boucle\n",
    "        clock.tick(10)\n"
   ]
  },
  {
   "cell_type": "markdown",
   "metadata": {},
   "source": [
    "A chaque itération de la boucle, l'entièreté de la grille est recalculée selon les règles avant d'afficher la nouvelle grille mais nous entrerons plus en détaille dans cette partie en étudiant l'optimisation"
   ]
  },
  {
   "cell_type": "markdown",
   "metadata": {},
   "source": [
    "**Partie 2 : Interface**\n",
    "\n",
    "L'interface du jeu est entièrement faite à l'aide de la bibliothèque Pygames.                                       \n",
    "C'est avec elle que l'on affiche le menu au début du jeu et le jeu en lui même.\n",
    "\n",
    "Premièrement, nous pouvons entrer plus en détail dans l'affichage de la grille en elle même :"
   ]
  },
  {
   "cell_type": "code",
   "execution_count": null,
   "metadata": {},
   "outputs": [],
   "source": [
    "def draw_grid(screen, largeur, hauteur, taille_cellule, couleur_grille):\n",
    "    for x in range(0, largeur, taille_cellule):\n",
    "        pygame.draw.line(screen, couleur_grille, (x, 0), (x, hauteur))\n",
    "    for y in range(0, hauteur, taille_cellule):\n",
    "        pygame.draw.line(screen, couleur_grille, (0, y), (largeur, y))\n",
    "\n",
    "def draw_matrix(screen, matrix, taille_cellule, couleur_vivant, couleur_mort, couleur_grille):\n",
    "    rows, cols = matrix.shape\n",
    "    for n in range(rows):\n",
    "        for m in range(cols):\n",
    "            rect = pygame.Rect(m * taille_cellule, n * taille_cellule, taille_cellule, taille_cellule)\n",
    "            if matrix[n, m] == 1:\n",
    "                pygame.draw.rect(screen, couleur_vivant, rect)\n",
    "            else:\n",
    "                pygame.draw.rect(screen, couleur_mort, rect)\n",
    "    draw_grid(screen, rows * taille_cellule, cols * taille_cellule, taille_cellule, couleur_grille)"
   ]
  },
  {
   "cell_type": "markdown",
   "metadata": {},
   "source": [
    "Ainsi que les boutons : "
   ]
  },
  {
   "cell_type": "code",
   "execution_count": 2,
   "metadata": {},
   "outputs": [],
   "source": [
    "def draw_button(screen, font, text, x, y, padding=10, height=30):\n",
    "    # Rendre le texte pour obtenir sa taille\n",
    "    text_surface = font.render(text, True, (255, 255, 255))\n",
    "    text_rect = text_surface.get_rect()\n",
    "\n",
    "    # Ajuster la largeur du bouton en fonction de la largeur du texte, avec un padding\n",
    "    width = text_rect.width + padding * 2\n",
    "    button_rect = pygame.Rect(x, y, width, height)\n",
    "    \n",
    "    # Dessiner le rectangle du bouton et le texte\n",
    "    pygame.draw.rect(screen, (70, 130, 180), button_rect)\n",
    "    text_rect.center = button_rect.center\n",
    "    screen.blit(text_surface, text_rect)\n",
    "\n",
    "    return button_rect\n"
   ]
  },
  {
   "cell_type": "markdown",
   "metadata": {},
   "source": [
    "**Partie 3 : Sauvegarde et chargement**"
   ]
  },
  {
   "cell_type": "code",
   "execution_count": null,
   "metadata": {},
   "outputs": [
    {
     "name": "stdout",
     "output_type": "stream",
     "text": [
      "Matrice sauvegardée dans sauvegarde.txt\n"
     ]
    }
   ],
   "source": [
    "import os\n",
    "import numpy as np\n",
    "\n",
    "# Sauvegarde l'état de la grille dans un fichier .txt.\n",
    "def save_matrix(matrix, filename=None):\n",
    " #matrix: La matrice représentant l'état actuel de la grille.\n",
    " #filename: Le nom du fichier où sauvegarder la grille.\n",
    "    if filename is None:\n",
    "        filename = input(\"Entrez le nom de la sauvegarde: \") + \".txt\"\n",
    "\n",
    "    with open(filename, 'w') as f:\n",
    "        for row in matrix:\n",
    "            f.write(\" \".join(map(str, row)) + \"\\n\")\n",
    "    print(f\"Matrice sauvegardée dans {filename}\")\n",
    "\n",
    "grille = np.random.randint(2, size=(5, 5))  \n",
    "save_matrix(grille, \"sauvegarde.txt\")\n"
   ]
  },
  {
   "cell_type": "code",
   "execution_count": 3,
   "metadata": {},
   "outputs": [
    {
     "name": "stdout",
     "output_type": "stream",
     "text": [
      "Matrice chargée depuis sauvegarde.txt\n",
      "Matrice chargée :\n",
      "[[0 0 0 1 0]\n",
      " [0 1 0 1 0]\n",
      " [0 1 1 1 0]\n",
      " [0 0 1 1 0]\n",
      " [1 0 0 1 0]]\n"
     ]
    }
   ],
   "source": [
    "def load_matrix(filename):\n",
    "\n",
    "    #Charge la matrice sauvegardé depuis le fichier texte.\n",
    "    if not os.path.exists(filename):\n",
    "        print(f\"Erreur : Le fichier {filename} n'existe pas.\")\n",
    "        return None\n",
    "\n",
    "    with open(filename, 'r') as f:\n",
    "        lines = f.readlines()\n",
    "        matrix = [list(map(int, line.split())) for line in lines]\n",
    "    \n",
    "    print(f\"Matrice chargée depuis {filename}\")\n",
    "    return np.array(matrix)\n",
    "\n",
    "matrice_chargee = load_matrix(\"sauvegarde.txt\")\n",
    "print(\"Matrice chargée :\")\n",
    "print(matrice_chargee)"
   ]
  },
  {
   "cell_type": "code",
   "execution_count": null,
   "metadata": {},
   "outputs": [
    {
     "name": "stdout",
     "output_type": "stream",
     "text": [
      "\n",
      "Liste des sauvegardes disponibles :\n",
      "Sauvegardes disponibles :\n",
      "1. sauvegarde.txt\n"
     ]
    },
    {
     "data": {
      "text/plain": [
       "['sauvegarde.txt']"
      ]
     },
     "execution_count": 4,
     "metadata": {},
     "output_type": "execute_result"
    }
   ],
   "source": [
    "def list_saves():\n",
    "    \n",
    "   # Liste tous les fichiers de sauvegarde disponibles dans le répertoire actuel.\n",
    "    \n",
    "    saves = [f for f in os.listdir() if f.endswith(\".txt\")]\n",
    "    if not saves:\n",
    "        print(\"Aucune sauvegarde trouvée.\")\n",
    "    else:\n",
    "        print(\"Sauvegardes disponibles :\")\n",
    "        for i, save in enumerate(saves, 1):\n",
    "            print(f\"{i}. {save}\")\n",
    "    return saves\n",
    "\n",
    "# Liste les fichiers de sauvegarde\n",
    "print(\"\\nListe des sauvegardes disponibles :\")\n",
    "list_saves()"
   ]
  },
  {
   "cell_type": "code",
   "execution_count": null,
   "metadata": {},
   "outputs": [
    {
     "name": "stdout",
     "output_type": "stream",
     "text": [
      "Sauvegardes disponibles :\n",
      "1. sauvegarde.txt\n"
     ]
    }
   ],
   "source": [
    "def select_save():\n",
    "    \n",
    "    #Permet à l'utilisateur de sélectionner une sauvegarde à charger.\n",
    "    \n",
    "    saves = list_saves()\n",
    "    if not saves:\n",
    "        return None\n",
    "\n",
    "    choice = input(\"Entrez le numéro de la sauvegarde que vous souhaitez charger : \")\n",
    "    try:\n",
    "        choice_index = int(choice) - 1\n",
    "        if 0 <= choice_index < len(saves):\n",
    "            return saves[choice_index]\n",
    "        else:\n",
    "            print(\"Numéro invalide.\")\n",
    "            return None\n",
    "    except ValueError:\n",
    "        print(\"Entrée invalide.\")\n",
    "        return None\n",
    "\n",
    "selection = select_save()\n",
    "\n"
   ]
  },
  {
   "cell_type": "markdown",
   "metadata": {},
   "source": [
    "**Partie 4 : Optimisation**\n",
    "\n",
    "Nous avons étudié plusieurs algorithmes pour recalculer notre grille avant de l'afficher.\n",
    "Avec les tailles de grilles que nous utilisons dans cet exercice, ils nous est apparu qu'il est plus efficace de recalculer toutes les cellules à chaque itération mais nous avons imaginés d'autres algorithmes adaptés à d'autres tailles de grilles"
   ]
  },
  {
   "cell_type": "code",
   "execution_count": null,
   "metadata": {},
   "outputs": [],
   "source": [
    "def find_neighbors(matrix, n, m):\n",
    "    neighbors = []\n",
    "    rows, cols = matrix.shape\n",
    "    for i in range(max(0, n-1), min(n+2, rows)):\n",
    "        for j in range(max(0, m-1), min(m+2, cols)):\n",
    "            if i == n and j == m:\n",
    "                continue\n",
    "            neighbors.append(matrix[i][j])\n",
    "    return neighbors\n",
    "\n",
    "def evaluate_dead(matrix, n, m):\n",
    "    neighbors = find_neighbors(matrix, n, m)\n",
    "    return 1 if np.sum(neighbors) == 3 else 0\n",
    "\n",
    "def evaluate_alive(matrix, n, m):\n",
    "    neighbors = find_neighbors(matrix, n, m)\n",
    "    return 1 if np.sum(neighbors) in [2, 3] else 0\n",
    "\n",
    "def evaluate(matrix):\n",
    "    rows, cols = matrix.shape\n",
    "    new_matrix = np.copy(matrix)\n",
    "    for n in range(rows):\n",
    "        for m in range(cols):\n",
    "            cell = matrix[n, m]\n",
    "            if cell == 1:\n",
    "                new_matrix[n, m] = evaluate_alive(matrix, n, m)\n",
    "            else:\n",
    "                new_matrix[n, m] = evaluate_dead(matrix, n, m)\n",
    "    return new_matrix\n"
   ]
  },
  {
   "cell_type": "code",
   "execution_count": null,
   "metadata": {},
   "outputs": [],
   "source": [
    "\n",
    "\n",
    "def evaluate_oppty(matrix, active_cells, TAILLE_GRILLE):\n",
    "    if len(active_cells)> 12.5*TAILLE_GRILLE**2/100:\n",
    "        matrix, active_cells = evaluate_all(matrix, active_cells)\n",
    "    else:\n",
    "        matrix, active_cells = evaluate_select(matrix, active_cells)\n",
    "    return matrix, active_cells\n",
    "\n",
    "def evaluate_all(matrix, active_cells):\n",
    "    rows, cols = matrix.shape\n",
    "    new_matrix = np.copy(matrix)\n",
    "\n",
    "    for n in range(rows):\n",
    "        for m in range(cols):\n",
    "            cell = matrix[n, m]\n",
    "            if cell == 1:\n",
    "                new_matrix[n, m] = evaluate_alive(matrix, n, m)\n",
    "                if(new_matrix[n, m]) == 0 : \n",
    "                    active_cells.remove((n,m))\n",
    "            else:\n",
    "                new_matrix[n, m] = evaluate_dead(matrix, n, m)\n",
    "                if(new_matrix[n, m]) == 1 : \n",
    "                    active_cells.append((n,m))\n",
    "    return new_matrix, active_cells\n",
    "\n",
    "def evaluate_select(matrix, active_cells):\n",
    "    new_matrix = np.copy(matrix)\n",
    "    for active_cell in active_cells:\n",
    "        print(active_cell)\n",
    "        (active_n,active_m) = active_cell\n",
    "        new_matrix[active_n][active_m] = evaluate_alive(matrix, active_n,active_m)\n",
    "        print(new_matrix[active_n][active_m])\n",
    "        neighbors = find_neighbors(matrix,active_n,active_m)\n",
    "        for neighbor in neighbors:\n",
    "            print(neighbor)\n",
    "            (neighbor_n,neighbor_m) = neighbor\n",
    "            if matrix[neighbor_n][neighbor_m] == 1:\n",
    "                new_matrix[neighbor_n][neighbor_m] = evaluate_alive(matrix, neighbor_n,neighbor_m)\n",
    "                if(new_matrix[neighbor_n][neighbor_m]) == 0 : \n",
    "                    active_cells.remove((neighbor_n,neighbor_m))\n",
    "            else:\n",
    "                new_matrix[neighbor_n][neighbor_m] = evaluate_dead(matrix, neighbor_n,neighbor_m)\n",
    "                if(new_matrix[neighbor_n][neighbor_m]) == 1 : \n",
    "                    active_cells.append((neighbor_n,neighbor_m))\n",
    "    return new_matrix, active_cells\n"
   ]
  },
  {
   "cell_type": "markdown",
   "metadata": {},
   "source": [
    "**Partie 5 : Présentation et Analyse de données**\n",
    "\n",
    "A chaque fermeture du programme, l'utilisateur est présenté avec deux graphiques : \n",
    "- Le premier donne une mesure du nombre de cellules dans le temps\n",
    "- Le second donne une mesure du temps de traitement du calcul de la grille"
   ]
  },
  {
   "cell_type": "code",
   "execution_count": 5,
   "metadata": {},
   "outputs": [
    {
     "data": {
      "image/png": "[encoded data removed]",
      "text/plain": [
       "<Figure size 640x480 with 1 Axes>"
      ]
     },
     "metadata": {},
     "output_type": "display_data"
    },
    {
     "data": {
      "image/png": "[encoded data removed]",
      "text/plain": [
       "<Figure size 640x480 with 1 Axes>"
      ]
     },
     "metadata": {},
     "output_type": "display_data"
    }
   ],
   "source": [
    "import matplotlib.pyplot as plt\n",
    "\n",
    "# Exemple de data issu d'un test précédent\n",
    "data = [[0, 1.0, 2.0, 3.0, 4.0, 5.0, 6.0, 7.0, 8.0, 9.0, 10.0, 11.0, 12.0, 13.0, 14.0, 15.0, 16.0, 17.0, 18.0, 19.0, 20.0], [0, 0, 50, 54, 68, 70, 77, 53, 53, 47, 43, 43, 43, 43, 43, 43, 43, 42, 42, 42, 42], [0, 0.08337, 0.08353, 0.08354, 0.08272, 0.08419, 0.08467, 0.08222, 0.0843, 0.08364, 0.08396, 0.08295, 0.08306, 0.08389, 0.08304, 0.08286, 0.08216, 0.08223, 0.08427, 0.08196, 0.08221], [100]]\n",
    "\n",
    "def creer_graph(data):\n",
    "    plt.title(\"Nombre de cellules\")\n",
    "    plt.plot(data[0], data[1])\n",
    "    plt.xlabel('Temps (en secondes)')\n",
    "    plt.ylabel('Cellules')\n",
    "    plt.show()\n",
    "\n",
    "def creer_graph_exec(data):\n",
    "    plt.title(\"Temps d'execution\")\n",
    "    plt.plot(data[0], data[2])\n",
    "    plt.xlabel('Temps (en secondes)')\n",
    "    plt.ylabel('Durée de calculs')\n",
    "    plt.show()\n",
    "\n",
    "creer_graph(data)\n",
    "creer_graph_exec(data)"
   ]
  }
 ],
 "metadata": {
  "kernelspec": {
   "display_name": "Python 3",
   "language": "python",
   "name": "python3"
  },
  "language_info": {
   "codemirror_mode": {
    "name": "ipython",
    "version": 3
   },
   "file_extension": ".py",
   "mimetype": "text/x-python",
   "name": "python",
   "nbconvert_exporter": "python",
   "pygments_lexer": "ipython3",
   "version": "3.11.9"
  }
 },
 "nbformat": 4,
 "nbformat_minor": 2
}
